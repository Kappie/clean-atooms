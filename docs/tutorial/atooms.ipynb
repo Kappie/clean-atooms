{
 "cells": [
  {
   "cell_type": "markdown",
   "metadata": {},
   "source": [
    "Basics\n",
    "======\n",
    "\n",
    "Atooms provides a high-level interface to the main objects of\n",
    "particle-based simulations. It mostly focuses on classical molecular\n",
    "dynamics and Monte Carlo simulations, but it is not limited to that. For\n",
    "instance, it can be used to model lattice models such as TASEP or\n",
    "kinetically constrained models.\n",
    "\n",
    "We will start by having a look at the basic objects of particle-based\n",
    "simulations and how to store them on a file.\n",
    "\n",
    "Particles\\' properties\n",
    "----------------------\n",
    "\n",
    "Particles\\' positions are stored as numpy arrays, but we can pass a\n",
    "simple list with x, y, z coordinates when we create them\n"
   ]
  },
  {
   "cell_type": "code",
   "execution_count": null,
   "metadata": {},
   "outputs": [],
   "source": [
    "  from atooms.system.particle import Particle\n",
    "  particle = Particle(position=[1.0, 0.0, 0.0])\n",
    "  print(particle.position, type(particle.position))"
   ]
  },
  {
   "cell_type": "markdown",
   "metadata": {},
   "source": [
    "Particles can live in an arbitrary number of spatial dimensions\n"
   ]
  },
  {
   "cell_type": "code",
   "execution_count": null,
   "metadata": {},
   "outputs": [],
   "source": [
    "  particle = Particle(position=[1.0, 0.0, 0.0, 0.0, 0.0])\n",
    "  print(len(particle.position))"
   ]
  },
  {
   "cell_type": "markdown",
   "metadata": {},
   "source": [
    "By default, they also have a few more properties such as velocity,\n",
    "chemical species, mass and radius. They can all be altered at will or\n",
    "even set to None.\n"
   ]
  },
  {
   "cell_type": "code",
   "execution_count": null,
   "metadata": {},
   "outputs": [],
   "source": [
    "  import numpy\n",
    "  particle = Particle(position=[1.0, 0.0, 0.0], velocity=[1.0, 0.0, 0.0])\n",
    "  particle.species = 'Na'\n",
    "  particle.position += numpy.array([0.0, 1.0, 1.0])\n",
    "  particle.velocity *= 2\n",
    "  particle.radius = None  # point particles have no radius\n",
    "  print(particle)"
   ]
  },
  {
   "cell_type": "markdown",
   "metadata": {},
   "source": [
    "You may want to add physical properties to particles, like charge or\n",
    "whatever. Of course, in python you can do it very easily\n"
   ]
  },
  {
   "cell_type": "code",
   "execution_count": null,
   "metadata": {},
   "outputs": [],
   "source": [
    "  particle.charge = -1.0"
   ]
  },
  {
   "cell_type": "markdown",
   "metadata": {},
   "source": [
    "This won\\'t break anything!\n",
    "\n",
    "Dealing with velocities\n",
    "-----------------------\n",
    "\n",
    "You may not need velocities at all (for instance because you are working\n",
    "with Monte Carlo simulations), but if you do, atooms provides a few\n",
    "useful methods and functions. For instance, you can assign velocity from\n",
    "a Maxwell-Boltzmann distribution at a temperature T.\n"
   ]
  },
  {
   "cell_type": "code",
   "execution_count": null,
   "metadata": {},
   "outputs": [],
   "source": [
    "  particle = [Particle() for i in range(1000)]\n",
    "  for p in particle:\n",
    "      p.maxwellian(T=1.0)\n",
    "  ekin = sum([p.kinetic_energy for p in particle])\n",
    "  ndim = 3\n",
    "  ndof = len(particle) * ndim\n",
    "  T = 2.0 / ndof * ekin\n",
    "  print(T)"
   ]
  },
  {
   "cell_type": "markdown",
   "metadata": {},
   "source": [
    "Doing so will leave a non-zero total momentum, but we can fix it (note\n",
    "that all masses are equal)\n"
   ]
  },
  {
   "cell_type": "code",
   "execution_count": null,
   "metadata": {},
   "outputs": [],
   "source": [
    "  from atooms.system.particle import fix_total_momentum, cm_velocity\n",
    "  print(cm_velocity(particle))\n",
    "  fix_total_momentum(particle)\n",
    "  print(cm_velocity(particle))"
   ]
  },
  {
   "cell_type": "markdown",
   "metadata": {},
   "source": [
    "Simulation cell\n",
    "---------------\n",
    "\n",
    "To avoid major finite size effects, we enclose particles in a cell with\n",
    "periodic boundary conditions. By convention, the cell origin is in the\n",
    "origin of the reference frame.\n"
   ]
  },
  {
   "cell_type": "code",
   "execution_count": null,
   "metadata": {},
   "outputs": [],
   "source": [
    "  from atooms.system.cell import Cell\n",
    "  L = 2.0\n",
    "  cell = Cell(side=[L, L, L])\n",
    "  print(cell.side, cell.volume)"
   ]
  },
  {
   "cell_type": "markdown",
   "metadata": {},
   "source": [
    "Atooms provides means to fold particles back in the \\\"central\\\"\n",
    "simulation cell, i.e. the one centered at the origin at the reference\n",
    "frame. For simplicity, let us work with particles in 1d.\n"
   ]
  },
  {
   "cell_type": "code",
   "execution_count": null,
   "metadata": {},
   "outputs": [],
   "source": [
    "  cell = Cell(side=1.0)\n",
    "  particle = Particle(position=2.0)  # particle outside the central cell\n",
    "  particle.fold(cell)\n",
    "  print(particle.position)"
   ]
  },
  {
   "cell_type": "markdown",
   "metadata": {},
   "source": [
    "The particle is now folded back at the origin.\n",
    "\n",
    "A related method returns the nearest periodic image of a given particle\n",
    "with respect to another particle\n"
   ]
  },
  {
   "cell_type": "code",
   "execution_count": null,
   "metadata": {},
   "outputs": [],
   "source": [
    "  particle_1 = Particle(position=-0.45)\n",
    "  particle_2 = Particle(position=+0.45)\n",
    "  image = particle_1.nearest_image(particle_2, cell, copy=True)\n",
    "  print(image)"
   ]
  },
  {
   "cell_type": "markdown",
   "metadata": {},
   "source": [
    "The system object\n",
    "-----------------\n",
    "\n",
    "Objects like particles and the simulation cell can be gathered in an\n",
    "instance of a god-like class called System. The system contains all the\n",
    "relevant physical objects of your simulation. Reservoirs like\n",
    "thermostats, barostats and particle reservoirs can be added as well.\n",
    "These objects are placeholders for thermodynamic state variables like\n",
    "temperature, pressure or chemical potential. Any class meant to describe\n",
    "the interaction between particles also belongs to the system.\n",
    "\n",
    "Let us build a system with a few particles in a cell and use the system\n",
    "methods to modify the system density and temperature. Note that density\n",
    "and temperature are python properties and thus modify the attributes of\n",
    "particles and cell under the hoods.\n"
   ]
  },
  {
   "cell_type": "code",
   "execution_count": null,
   "metadata": {},
   "outputs": [],
   "source": [
    "  from atooms.system import System\n",
    "  system = System(particle=[Particle() for i in range(100)],\n",
    "\t\t  cell=Cell([10.0, 10.0, 10.0]))\n",
    "  system.density = 1.2  # equivalent to system.set_density(1.2)\n",
    "  system.temperature = 1.5  # equivalent to system.set_temperature(1.2)\n",
    "  print(system.density, system.temperature)"
   ]
  },
  {
   "cell_type": "markdown",
   "metadata": {},
   "source": [
    "Note that the system temperature is the kinetic one and need not\n",
    "coincide with the one of the thermostat.\n"
   ]
  },
  {
   "cell_type": "code",
   "execution_count": null,
   "metadata": {},
   "outputs": [],
   "source": [
    "  from atooms.system import Thermostat\n",
    "  system.thermostat = Thermostat(temperature=1.0)\n",
    "  system.temperature = 1.5  # equivalent to system.set_temperature(1.2)\n",
    "  print(system.temperature, system.thermostat.temperature)"
   ]
  },
  {
   "cell_type": "markdown",
   "metadata": {},
   "source": [
    "Read and write trajectory files\n",
    "-------------------------------\n",
    "\n",
    "To write the state of the system to a file, we use a Trajectory class.\n",
    "Trajectories are composed of multiple frames, each one holding the state\n",
    "of the system at a given step during the simulation. We use a basic xyz\n",
    "format and read the file back to see how it looks like.\n"
   ]
  },
  {
   "cell_type": "code",
   "execution_count": null,
   "metadata": {},
   "outputs": [],
   "source": [
    "  from atooms.trajectory import TrajectoryXYZ\n",
    "\n",
    "  system = System(particle=[Particle() for i in range(4)],\n",
    "\t\t  cell=Cell([10.0, 10.0, 10.0]))\n",
    "\n",
    "  with TrajectoryXYZ('test.xyz', 'w') as th:\n",
    "    th.write(system, step=0)\n",
    "\n",
    "  # Read the xyz file back as plain text\n",
    "  with open('test.xyz') as fh:\n",
    "    print fh.read()"
   ]
  },
  {
   "cell_type": "markdown",
   "metadata": {},
   "source": [
    "We can customize the output of the xyz trajectory by modifying the list\n",
    "of particle fields to be written.\n"
   ]
  },
  {
   "cell_type": "code",
   "execution_count": null,
   "metadata": {},
   "outputs": [],
   "source": [
    "  for p in system.particle:\n",
    "    p.charge = -1.0\n",
    "\n",
    "  with TrajectoryXYZ('test.xyz', 'w', fields=['position', 'charge']) as th:\n",
    "    th.write(system, step=0)\n",
    "\n",
    "  with open('test.xyz') as fh:\n",
    "    print fh.read()"
   ]
  },
  {
   "cell_type": "markdown",
   "metadata": {},
   "source": [
    "Of course, we can write multiple frames by calling write() repeatedly.\n"
   ]
  },
  {
   "cell_type": "code",
   "execution_count": null,
   "metadata": {},
   "outputs": [],
   "source": [
    "  with TrajectoryXYZ('test.xyz', 'w') as th:\n",
    "    for i in range(3):\n",
    "      th.write(system, step=i*10)"
   ]
  },
  {
   "cell_type": "markdown",
   "metadata": {},
   "source": [
    "To get the system back we read the trajectory. Trajectories support\n",
    "iteration and indexing, just like lists.\n"
   ]
  },
  {
   "cell_type": "code",
   "execution_count": null,
   "metadata": {},
   "outputs": [],
   "source": [
    "  with TrajectoryXYZ('test.xyz') as th:\n",
    "    # First frame\n",
    "    system = th[0]\n",
    "    print(system.particle[0].position, system.cell.side)\n",
    "\n",
    "    # Last frame\n",
    "    system = th[-1]\n",
    "    print(system.particle[0].position, system.cell.side)\n",
    "  \n",
    "    # Iterate over all frames\n",
    "    for i, system in enumerate(th):\n",
    "      print(th.steps[i], system.particle[0].position)"
   ]
  },
  {
   "cell_type": "markdown",
   "metadata": {},
   "source": [
    "A minimal simulation backend\n",
    "============================\n",
    "\n",
    "Within atooms, **simulations** are high-level classes that encapsulate\n",
    "some common tasks and provide a consistent interface to the user, while\n",
    "**backends** are classes that actually make the system evolve. Here we\n",
    "implement a minimal backend to run a simulation.\n",
    "\n",
    "At a very minimum, a backend is a class that provides\n",
    "\n",
    "-   a **system** instance variable, which should (mostly) behave like\n",
    "    atooms.system.System.\n",
    "-   a **run()** method, which evolves the system for a prescribed number\n",
    "    of steps (passed as argument)\n",
    "\n",
    "Optionally, the backend may hold a reference to a trajectory class,\n",
    "which can be used to checkpoint the simulation or to write\n",
    "configurations to a file. This is however not required in a first stage.\n",
    "*Note: before atooms 1.5.0, backends also had to implement a\n",
    "write~checkpoint~() method and they were required to hold a reference to\n",
    "Trajectory. Since 1.5.0 this is no longer necessary.*\n",
    "\n",
    "We set up a bare-bones simulation backend building on the native System\n",
    "class\n"
   ]
  },
  {
   "cell_type": "code",
   "execution_count": null,
   "metadata": {},
   "outputs": [],
   "source": [
    "  from atooms.system import System\n",
    "  \n",
    "  class BareBonesBackend(object):\n",
    "      \n",
    "      def __init__(self):\n",
    "          self.system = System()\n",
    "  \n",
    "      def run(self, steps):\n",
    "          for i in range(steps):\n",
    "              pass\n",
    "  \n",
    "  # The backend is created and wrapped by a simulation object.\n",
    "  # Here we first call the run() method then run_until()\n",
    "  from atooms.simulation import Simulation\n",
    "  backend = BareBonesBackend()\n",
    "  simulation = Simulation(backend)\n",
    "  simulation.run(10)\n",
    "  simulation.run_until(30)\n",
    "  assert simulation.current_step == 30\n",
    "  \n",
    "  # This time we call run() multiple times \n",
    "  simulation = Simulation(backend)\n",
    "  simulation.run(10)\n",
    "  simulation.run(20)\n",
    "  assert simulation.current_step == 30  \n",
    "  \n",
    "  # Increase verbosity to see a meaningful log\n",
    "  from atooms.core.utils import setup_logging\n",
    "  setup_logging(level=20)\n",
    "  simulation = Simulation(backend)\n",
    "  simulation.run(10)  "
   ]
  },
  {
   "cell_type": "markdown",
   "metadata": {},
   "source": [
    "``` {.example}\n",
    "# \n",
    "# atooms simulation via <__main__.BareBonesBackend object at 0x7f2091065a50>\n",
    "# \n",
    "# version: 1.5.0+1.5.0-4-g8f32a9 (2018-09-07)\n",
    "# atooms version: 1.5.0+1.5.0-4-g8f32a9 (2018-09-07)\n",
    "# simulation started on: 2018-09-07 at 10:59\n",
    "# output path: None\n",
    "# backend: <__main__.BareBonesBackend object at 0x7f2091065a50>\n",
    "# \n",
    "# target target_steps: 10\n",
    "# \n",
    "# \n",
    "# starting at step: 0\n",
    "# simulation ended successfully: reached target steps 10\n",
    "# \n",
    "# final steps: 10\n",
    "# final rmsd: 0.00\n",
    "# wall time [s]: 0.00\n",
    "# average TSP [s/step/particle]: nan\n",
    "# simulation ended on: 2018-09-07 at 10:59\n",
    "```\n",
    "\n",
    "A simple random walk\n",
    "====================\n",
    "\n",
    "We implement a simple random walk in 3d. This requires adding code to\n",
    "the backend run() method to actually move the particles around.\n",
    "\n",
    "We start by building an empty system. Then we add a few particles and\n",
    "place them at random in a cube. Finally, we write a backend that\n",
    "displaces each particle randomly over a cube of prescribed side.\n"
   ]
  },
  {
   "cell_type": "code",
   "execution_count": null,
   "metadata": {},
   "outputs": [],
   "source": [
    "  import numpy\n",
    "  from atooms.system import System\n",
    "\n",
    "  # There are no particles at the beginning\n",
    "  system = System()\n",
    "  assert len(system.particle) == 0\n",
    "\n",
    "  # Add particles\n",
    "  from atooms.system.particle import Particle\n",
    "  from random import random\n",
    "  L = 10\n",
    "  for i in range(1000):\n",
    "      p = Particle(position=[L * random(), L * random(), L * random()])\n",
    "      system.particle.append(p)\n",
    "\n",
    "  class RandomWalk(object):\n",
    "\n",
    "      def __init__(self, system, delta=1.0):\n",
    "\t  self.system = system\n",
    "\t  self.delta = delta\n",
    "\n",
    "      def run(self, steps):\n",
    "\t  for i in range(steps):\n",
    "\t      for p in self.system.particle:\n",
    "\t\t  dr = numpy.array([random()-0.5, random()-0.5, random()-0.5])\n",
    "\t\t  dr *= self.delta\n",
    "\t\t  p.position += dr\n"
   ]
  },
  {
   "cell_type": "markdown",
   "metadata": {},
   "source": [
    "The Simulation class provides a callback mechanism to allow execution of\n",
    "arbitrary code during the simulation. This can be used to write logs or\n",
    "particle configurations to file, or to perform on-the-fly calculations\n",
    "of the system properties. Callbacks are plain function that accept the\n",
    "simulation object as first argument. They are called at prescribed\n",
    "intervals during the simulation.\n",
    "\n",
    "Here we measure the mean square displacement (MSD) of the particles to\n",
    "make sure that the system displays a regular diffusive behavior\n",
    "$MSD \\sim t$\n"
   ]
  },
  {
   "cell_type": "code",
   "execution_count": null,
   "metadata": {},
   "outputs": [],
   "source": [
    "  from atooms.simulation import Simulation\n",
    "  simulation = Simulation(RandomWalk(system))\n",
    "\n",
    "  # We add a callback that computes the MSD every 10 steps\n",
    "  # We store the result in a dictionary passed to the callback\n",
    "  msd_db = {}\n",
    "  def cbk(sim, initial_position, db):\n",
    "      msd = 0.0\n",
    "      for i, p in enumerate(sim.system.particle):\n",
    "\t  dr = p.position - initial_position[i]\n",
    "\t  msd += numpy.sum(dr**2)\n",
    "      msd /= len(sim.system.particle)\n",
    "      db[sim.current_step] = msd\n",
    "\n",
    "  # We will execute the callback every 10 steps\n",
    "  simulation.add(cbk, 10, initial_position=[p.position.copy() for p in\n",
    "\t\t\t\t\t    system.particle], db=msd_db)\n",
    "  simulation.run(50)\n",
    "\n",
    "  # The MSD should increase linearly with time\n",
    "  time = sorted(msd_db.keys())\n",
    "  msd = [msd_db[t] for t in time]\n",
    "\n",
    "  print time, msd\n",
    "  import matplotlib.pyplot as plt\n",
    "  plt.cla()\n",
    "  plt.plot(time, msd, '-o')\n",
    "  plt.xlabel(\"t\")\n",
    "  plt.ylabel(\"MSD\")\n",
    "  plt.savefig('msd.png')"
   ]
  },
  {
   "cell_type": "markdown",
   "metadata": {},
   "source": [
    "Here is the MSD as a function of time. It should look linear.\n",
    "![](../msd.png)\n",
    "\n",
    "Particles on a lattice\n",
    "======================\n",
    "\n",
    "We want to simulate a system where particles can only be located at\n",
    "discrete sites, say a one-dimensional lattice or perhaps a network with\n",
    "a complex topology. Particle positions can be described as simple\n",
    "integers, holding the index of the site on which a particle is located.\n",
    "We create such a system and then write it to a file in xyz format\n"
   ]
  },
  {
   "cell_type": "code",
   "execution_count": null,
   "metadata": {},
   "outputs": [],
   "source": [
    "  import numpy\n",
    "  from atooms.system import System, Particle\n",
    "  \n",
    "  # Build model system with integer coordinates\n",
    "  particle = [Particle() for i in range(3)]\n",
    "  particle[0].position = 0\n",
    "  particle[1].position = 1\n",
    "  particle[2].position = 2\n",
    "  system = System(particle=particle)\n",
    "  \n",
    "  # Write xyz trajectory\n",
    "  from atooms.trajectory import TrajectoryXYZ\n",
    "  with TrajectoryXYZ('test.xyz', 'w') as th:\n",
    "    th.write(system, 0)\n",
    "  \n",
    "  # Read the xyz file back as plain text\n",
    "  with open('test.xyz') as fh:\n",
    "    print(fh.read())"
   ]
  },
  {
   "cell_type": "markdown",
   "metadata": {},
   "source": [
    "Everything went fine. However, we have to tweak things a bit when\n",
    "reading the particles back, to avoid positions being transformed to\n",
    "arrays of floats instead of integers. This can be done with the help of\n",
    "a callback that transforms the system accordingly as we read the\n",
    "trajectory.\n"
   ]
  },
  {
   "cell_type": "code",
   "execution_count": null,
   "metadata": {},
   "outputs": [],
   "source": [
    "  # Read file as an xyz trajectory \n",
    "  with TrajectoryXYZ('test.xyz') as th:\n",
    "\n",
    "    # We add a callback to read positions as simple integers\n",
    "    # Otherwise they are read as numpy arrays of floats.\n",
    "    def modify(system):      \n",
    "      for p in system.particle:\n",
    "\tp.position = int(p.position[0])\n",
    "\tp.velocity = None\n",
    "\tp.radius = None\n",
    "      return system\n",
    "    th.add_callback(modify)\n",
    "\n",
    "    for p in th[0].particle:\n",
    "      print p"
   ]
  }
 ],
 "metadata": {},
 "nbformat": 4,
 "nbformat_minor": 2
}
